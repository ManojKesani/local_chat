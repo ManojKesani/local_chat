{
 "cells": [
  {
   "cell_type": "code",
   "execution_count": 1,
   "metadata": {},
   "outputs": [],
   "source": [
    "import ollama\n"
   ]
  },
  {
   "cell_type": "code",
   "execution_count": 7,
   "metadata": {},
   "outputs": [
    {
     "data": {
      "text/plain": [
       "['AsyncClient',\n",
       " 'ChatResponse',\n",
       " 'Client',\n",
       " 'GenerateResponse',\n",
       " 'Message',\n",
       " 'Options',\n",
       " 'ProgressResponse',\n",
       " 'RequestError',\n",
       " 'ResponseError',\n",
       " '__all__',\n",
       " '__builtins__',\n",
       " '__cached__',\n",
       " '__doc__',\n",
       " '__file__',\n",
       " '__loader__',\n",
       " '__name__',\n",
       " '__package__',\n",
       " '__path__',\n",
       " '__spec__',\n",
       " '_client',\n",
       " '_types',\n",
       " 'chat',\n",
       " 'copy',\n",
       " 'create',\n",
       " 'delete',\n",
       " 'embeddings',\n",
       " 'generate',\n",
       " 'list',\n",
       " 'pull',\n",
       " 'push',\n",
       " 'show']"
      ]
     },
     "execution_count": 7,
     "metadata": {},
     "output_type": "execute_result"
    }
   ],
   "source": [
    "list(dir(ollama))"
   ]
  },
  {
   "cell_type": "code",
   "execution_count": 13,
   "metadata": {},
   "outputs": [
    {
     "name": "stdout",
     "output_type": "stream",
     "text": [
      "{'created_at': '2024-04-27T04:17:06.835018Z',\n",
      " 'done': True,\n",
      " 'eval_count': 53,\n",
      " 'eval_duration': 1140145000,\n",
      " 'load_duration': 3671047042,\n",
      " 'message': {'content': 'The sky is blue due to Rayleigh scattering. This '\n",
      "                        'scattering occurs when sunlight interacts with '\n",
      "                        \"molecules in the Earth's atmosphere. The blue light \"\n",
      "                        'has a shorter wavelength than other colors, so it is '\n",
      "                        'scattered more strongly. This is why the sky appears '\n",
      "                        'blue to us.',\n",
      "             'role': 'assistant'},\n",
      " 'model': 'gemma:2b',\n",
      " 'prompt_eval_count': 15,\n",
      " 'prompt_eval_duration': 79300000,\n",
      " 'total_duration': 4892738625}\n"
     ]
    }
   ],
   "source": [
    "import ollama\n",
    "from pprint import pprint\n",
    "\n",
    "response = ollama.chat(model='gemma:2b', messages=[\n",
    "  {\n",
    "    'role': 'user',\n",
    "    'content': 'Why is the sky blue?',\n",
    "  },\n",
    "])\n",
    "pprint(response)"
   ]
  },
  {
   "cell_type": "code",
   "execution_count": 14,
   "metadata": {},
   "outputs": [
    {
     "name": "stdout",
     "output_type": "stream",
     "text": [
      "{'created_at': '2024-04-27T04:17:16.394764Z',\n",
      " 'done': True,\n",
      " 'eval_count': 168,\n",
      " 'eval_duration': 5649859000,\n",
      " 'load_duration': 3376737458,\n",
      " 'message': {'content': ' The sky appears blue to the human eye because of a '\n",
      "                        'phenomenon known as Rayleigh scattering. As sunlight '\n",
      "                        \"enters Earth's atmosphere, it encounters molecules \"\n",
      "                        'and small particles which cause the light to scatter '\n",
      "                        'in all directions. Blue light (shorter wavelength) is '\n",
      "                        'scattered more than other colors because its shorter '\n",
      "                        'wavelength causes it to diffract more sharply when '\n",
      "                        'encountering these particles. This scattering of blue '\n",
      "                        'light across the sky makes it appear predominantly '\n",
      "                        \"blue from our perspective on Earth's surface, \"\n",
      "                        'especially during the daytime when the sun is high in '\n",
      "                        'the sky. Additionally, at sunrise and sunset, the '\n",
      "                        'light path through the atmosphere is longer, which '\n",
      "                        'means even more blue light is scattered out, leaving '\n",
      "                        'shades of red, orange, and pink to dominate.',\n",
      "             'role': 'assistant'},\n",
      " 'model': 'phi3',\n",
      " 'prompt_eval_count': 13,\n",
      " 'prompt_eval_duration': 153076000,\n",
      " 'total_duration': 9195659416}\n"
     ]
    }
   ],
   "source": [
    "import ollama\n",
    "from pprint import pprint\n",
    "\n",
    "response = ollama.chat(model='phi3', messages=[\n",
    "  {\n",
    "    'role': 'user',\n",
    "    'content': 'Why is the sky blue?',\n",
    "  },\n",
    "])\n",
    "pprint(response)"
   ]
  },
  {
   "cell_type": "code",
   "execution_count": 6,
   "metadata": {},
   "outputs": [
    {
     "name": "stderr",
     "output_type": "stream",
     "text": [
      "Fetching 10 files: 100%|██████████| 10/10 [00:00<00:00, 171897.70it/s]\n"
     ]
    },
    {
     "name": "stdout",
     "output_type": "stream",
     "text": [
      "==========\n",
      "Prompt: explain\n",
      "the difference between the two.\n",
      "\n",
      "The first is that the first-order approximation is not valid for the case of a single-particle system. The second-order approximation is valid for the case of a single-particle system, but the first-order approximation is not valid for the case of a multi-particle system.\n",
      "\n",
      "The first-order approximation is valid for the case of a single-particle system. The second-order approximation is valid for the case of\n",
      "==========\n",
      "Prompt: 37.196 tokens-per-sec\n",
      "Generation: 71.313 tokens-per-sec\n"
     ]
    }
   ],
   "source": [
    "from mlx_lm import load, generate\n",
    "\n",
    "prompt=\"explain\"\n",
    "\n",
    "model, tokenizer = load(\"mlx-community/OpenELM-450M\")\n",
    "response = generate(model, tokenizer, prompt=prompt, verbose=True)\n"
   ]
  },
  {
   "cell_type": "code",
   "execution_count": null,
   "metadata": {},
   "outputs": [],
   "source": []
  }
 ],
 "metadata": {
  "kernelspec": {
   "display_name": "chat",
   "language": "python",
   "name": "python3"
  },
  "language_info": {
   "codemirror_mode": {
    "name": "ipython",
    "version": 3
   },
   "file_extension": ".py",
   "mimetype": "text/x-python",
   "name": "python",
   "nbconvert_exporter": "python",
   "pygments_lexer": "ipython3",
   "version": "3.12.3"
  }
 },
 "nbformat": 4,
 "nbformat_minor": 2
}
