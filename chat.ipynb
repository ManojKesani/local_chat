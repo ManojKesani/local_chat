{
 "cells": [
  {
   "cell_type": "code",
   "execution_count": 1,
   "metadata": {},
   "outputs": [],
   "source": [
    "import ollama\n"
   ]
  },
  {
   "cell_type": "code",
   "execution_count": 7,
   "metadata": {},
   "outputs": [
    {
     "data": {
      "text/plain": [
       "['AsyncClient',\n",
       " 'ChatResponse',\n",
       " 'Client',\n",
       " 'GenerateResponse',\n",
       " 'Message',\n",
       " 'Options',\n",
       " 'ProgressResponse',\n",
       " 'RequestError',\n",
       " 'ResponseError',\n",
       " '__all__',\n",
       " '__builtins__',\n",
       " '__cached__',\n",
       " '__doc__',\n",
       " '__file__',\n",
       " '__loader__',\n",
       " '__name__',\n",
       " '__package__',\n",
       " '__path__',\n",
       " '__spec__',\n",
       " '_client',\n",
       " '_types',\n",
       " 'chat',\n",
       " 'copy',\n",
       " 'create',\n",
       " 'delete',\n",
       " 'embeddings',\n",
       " 'generate',\n",
       " 'list',\n",
       " 'pull',\n",
       " 'push',\n",
       " 'show']"
      ]
     },
     "execution_count": 7,
     "metadata": {},
     "output_type": "execute_result"
    }
   ],
   "source": [
    "list(dir(ollama))"
   ]
  },
  {
   "cell_type": "code",
   "execution_count": 13,
   "metadata": {},
   "outputs": [
    {
     "name": "stdout",
     "output_type": "stream",
     "text": [
      "{'created_at': '2024-04-27T04:17:06.835018Z',\n",
      " 'done': True,\n",
      " 'eval_count': 53,\n",
      " 'eval_duration': 1140145000,\n",
      " 'load_duration': 3671047042,\n",
      " 'message': {'content': 'The sky is blue due to Rayleigh scattering. This '\n",
      "                        'scattering occurs when sunlight interacts with '\n",
      "                        \"molecules in the Earth's atmosphere. The blue light \"\n",
      "                        'has a shorter wavelength than other colors, so it is '\n",
      "                        'scattered more strongly. This is why the sky appears '\n",
      "                        'blue to us.',\n",
      "             'role': 'assistant'},\n",
      " 'model': 'gemma:2b',\n",
      " 'prompt_eval_count': 15,\n",
      " 'prompt_eval_duration': 79300000,\n",
      " 'total_duration': 4892738625}\n"
     ]
    }
   ],
   "source": [
    "import ollama\n",
    "from pprint import pprint\n",
    "\n",
    "response = ollama.chat(model='gemma:2b', messages=[\n",
    "  {\n",
    "    'role': 'user',\n",
    "    'content': 'Why is the sky blue?',\n",
    "  },\n",
    "])\n",
    "pprint(response)"
   ]
  },
  {
   "cell_type": "code",
   "execution_count": 14,
   "metadata": {},
   "outputs": [
    {
     "name": "stdout",
     "output_type": "stream",
     "text": [
      "{'created_at': '2024-04-27T04:17:16.394764Z',\n",
      " 'done': True,\n",
      " 'eval_count': 168,\n",
      " 'eval_duration': 5649859000,\n",
      " 'load_duration': 3376737458,\n",
      " 'message': {'content': ' The sky appears blue to the human eye because of a '\n",
      "                        'phenomenon known as Rayleigh scattering. As sunlight '\n",
      "                        \"enters Earth's atmosphere, it encounters molecules \"\n",
      "                        'and small particles which cause the light to scatter '\n",
      "                        'in all directions. Blue light (shorter wavelength) is '\n",
      "                        'scattered more than other colors because its shorter '\n",
      "                        'wavelength causes it to diffract more sharply when '\n",
      "                        'encountering these particles. This scattering of blue '\n",
      "                        'light across the sky makes it appear predominantly '\n",
      "                        \"blue from our perspective on Earth's surface, \"\n",
      "                        'especially during the daytime when the sun is high in '\n",
      "                        'the sky. Additionally, at sunrise and sunset, the '\n",
      "                        'light path through the atmosphere is longer, which '\n",
      "                        'means even more blue light is scattered out, leaving '\n",
      "                        'shades of red, orange, and pink to dominate.',\n",
      "             'role': 'assistant'},\n",
      " 'model': 'phi3',\n",
      " 'prompt_eval_count': 13,\n",
      " 'prompt_eval_duration': 153076000,\n",
      " 'total_duration': 9195659416}\n"
     ]
    }
   ],
   "source": [
    "import ollama\n",
    "from pprint import pprint\n",
    "\n",
    "response = ollama.chat(model='phi3', messages=[\n",
    "  {\n",
    "    'role': 'user',\n",
    "    'content': 'Why is the sky blue?',\n",
    "  },\n",
    "])\n",
    "pprint(response)"
   ]
  },
  {
   "cell_type": "code",
   "execution_count": 6,
   "metadata": {},
   "outputs": [
    {
     "name": "stderr",
     "output_type": "stream",
     "text": [
      "Fetching 10 files: 100%|██████████| 10/10 [00:00<00:00, 171897.70it/s]\n"
     ]
    },
    {
     "name": "stdout",
     "output_type": "stream",
     "text": [
      "==========\n",
      "Prompt: explain\n",
      "the difference between the two.\n",
      "\n",
      "The first is that the first-order approximation is not valid for the case of a single-particle system. The second-order approximation is valid for the case of a single-particle system, but the first-order approximation is not valid for the case of a multi-particle system.\n",
      "\n",
      "The first-order approximation is valid for the case of a single-particle system. The second-order approximation is valid for the case of\n",
      "==========\n",
      "Prompt: 37.196 tokens-per-sec\n",
      "Generation: 71.313 tokens-per-sec\n"
     ]
    }
   ],
   "source": [
    "from mlx_lm import load, generate\n",
    "\n",
    "prompt=\"explain\"\n",
    "\n",
    "model, tokenizer = load(\"mlx-community/OpenELM-450M\")\n",
    "response = generate(model, tokenizer, prompt=prompt, verbose=True)\n"
   ]
  },
  {
   "cell_type": "code",
   "execution_count": 1,
   "metadata": {},
   "outputs": [
    {
     "name": "stdout",
     "output_type": "stream",
     "text": [
      "Role: Adventure Guide\n",
      "Goal: Craft exhilarating adventures that ignite the spirit of exploration and adrenaline.\n",
      "Backstory: A daredevil at heart, fueled by the thrill of discovering uncharted territories and conquering untamed landscapes.\n"
     ]
    }
   ],
   "source": [
    "import json\n",
    "\n",
    "# Load the combined JSON file\n",
    "with open('agents.json', 'r') as f:\n",
    "    data = json.load(f)\n",
    "\n",
    "def get_role_goal_backstory(key):\n",
    "    # Extract role, goal, and backstory using the key\n",
    "    role = data['roles'].get(key)\n",
    "    goal = data['goals'].get(key)\n",
    "    backstory = data['backstories'].get(key)\n",
    "    \n",
    "    return role, goal, backstory\n",
    "\n",
    "# Example usage:\n",
    "key = \"adventure_guide\"\n",
    "role, goal, backstory = get_role_goal_backstory(key)\n",
    "print(\"Role:\", role)\n",
    "print(\"Goal:\", goal)\n",
    "print(\"Backstory:\", backstory)\n"
   ]
  },
  {
   "cell_type": "code",
   "execution_count": 5,
   "metadata": {},
   "outputs": [
    {
     "name": "stdout",
     "output_type": "stream",
     "text": [
      "Available Agents:\n",
      "- adventure_guide\n",
      "- culture_crafter\n",
      "- serenity_scout\n",
      "- gastronomic_guru\n",
      "- eco_explorer\n",
      "- urban_nomad\n"
     ]
    }
   ],
   "source": []
  },
  {
   "cell_type": "code",
   "execution_count": null,
   "metadata": {},
   "outputs": [],
   "source": [
    "# Example usage:\n",
    "creator = AgentCreator('combined_data.json')\n",
    "\n",
    "# Add a new agent\n",
    "creator.add_agent('new_agent', 'New Agent', 'New Goal', 'New Backstory')\n",
    "\n",
    "# Display available agents after adding\n",
    "creator.display_available_agents()"
   ]
  },
  {
   "cell_type": "code",
   "execution_count": 4,
   "metadata": {},
   "outputs": [
    {
     "name": "stdout",
     "output_type": "stream",
     "text": [
      "Available Agents:\n",
      "- Key: adventure_guide\n",
      "  Role: Adventure Guide\n",
      "  Goal: Craft exhilarating adventures that ignite the spirit of exploration and adrenaline.\n",
      "  Backstory: A daredevil at heart, fueled by the thrill of discovering uncharted territories and conquering untamed landscapes.\n",
      "- Key: culture_crafter\n",
      "  Role: Culture Crafter\n",
      "  Goal: Immerse travelers in the diverse cultures of the world, from ancient traditions to modern marvels.\n",
      "  Backstory: A global citizen with a deep appreciation for the mosaic of human culture, seeking to bridge gaps and foster understanding through shared experiences.\n",
      "- Key: serenity_scout\n",
      "  Role: Serenity Scout\n",
      "  Goal: Lead seekers of tranquility to idyllic retreats where they can rejuvenate mind, body, and soul.\n",
      "  Backstory: A guardian of tranquility, with an intuitive sense for serene sanctuaries and a mission to restore balance in a chaotic world.\n",
      "- Key: gastronomic_guru\n",
      "  Role: Gastronomic Guru\n",
      "  Goal: Delight food enthusiasts with gastronomic odysseys, exploring the flavors of local cuisines.\n",
      "  Backstory: A culinary virtuoso, dedicated to exploring the world's flavors, uncovering culinary secrets, and savoring every bite.\n",
      "- Key: eco_explorer\n",
      "  Role: Eco Explorer\n",
      "  Goal: Promote sustainable travel practices while uncovering the wonders of nature and biodiversity.\n",
      "  Backstory: A steward of the Earth, dedicated to preserving natural wonders and inspiring others to tread lightly on their journey through eco-conscious exploration.\n",
      "- Key: urban_nomad\n",
      "  Role: Urban Nomad\n",
      "  Goal: Navigate the bustling metropolises, unveiling the hidden gems and vibrant subcultures of urban life.\n",
      "  Backstory: A modern-day nomad, navigating the urban jungle with curiosity and adaptability, uncovering the essence of city life in its myriad forms.\n",
      "- Key: agent_tester\n",
      "  Role: Researcher\n",
      "  Goal: Find and summarize the latest AI news\n",
      "  Backstory: You're a researcher at a large company.\n",
      "  You're responsible for analyzing data and providing insights\n",
      "  to the business.\n",
      "- Key: PDF_Cleaner\n",
      "  Role: Document Cleansing Specialist\n",
      "  Goal: To extract relevant information from cluttered documents and present it in a clear, concise format.\n",
      "  Backstory: A meticulous data curator with a keen eye for detail, the Document Cleansing Specialist is adept at navigating through cluttered documents to uncover the nuggets of valuable information buried within.With a background in data analysis and document processing, this agent has honed the skills necessary to efficiently clean and organize text, ensuring that only the most pertinent details are retained while extraneous clutter is discarded. Whether it's extracting crucial insights from financial reports, distilling key findings from research papers, or summarizing important data from lengthy documents, the Document Cleansing Specialist is the go-to expert for tidying up messy text and delivering polished, refined content. Armed with cutting-edge text processing tools and a commitment to excellence, this agent transforms chaotic documents into streamlined resources, empowering decision-makers with clarity and precision.\n",
      "\n"
     ]
    }
   ],
   "source": [
    "from agents import AgentCreator\n",
    "\n",
    "a = AgentCreator('agents.json')\n",
    "a.display_available_agents()"
   ]
  },
  {
   "cell_type": "code",
   "execution_count": 3,
   "metadata": {},
   "outputs": [
    {
     "name": "stdout",
     "output_type": "stream",
     "text": [
      "Agent 'Document Cleansing Specialist' added successfully.\n"
     ]
    }
   ],
   "source": [
    "a.add_agent(\n",
    "    key='PDF_Cleaner',\n",
    "    role='Document Cleansing Specialist',\n",
    "    goal='To extract relevant information from cluttered documents and present it in a clear, concise format.',\n",
    "    backstory=\"\"\"A meticulous data curator with a keen eye for detail, the Document Cleansing Specialist is adept at navigating through cluttered documents to uncover the nuggets of valuable information buried within.With a background in data analysis and document processing, this agent has honed the skills necessary to efficiently clean and organize text, ensuring that only the most pertinent details are retained while extraneous clutter is discarded. Whether it's extracting crucial insights from financial reports, distilling key findings from research papers, or summarizing important data from lengthy documents, the Document Cleansing Specialist is the go-to expert for tidying up messy text and delivering polished, refined content. Armed with cutting-edge text processing tools and a commitment to excellence, this agent transforms chaotic documents into streamlined resources, empowering decision-makers with clarity and precision.\n",
    "\"\"\"\n",
    ")"
   ]
  },
  {
   "cell_type": "code",
   "execution_count": null,
   "metadata": {},
   "outputs": [],
   "source": [
    "\"In Time Series Forecasting with Stationary Data, particularly concerning additive versus multiplicative seasonal effects, we begin by analyzing a stationary time series where both expected levels and the seasonal factors are computed from historical data. For an additive model with 4 periods (such as quarterly data), the forecast for periods n through p+1 is given using the formula 𝑦𝑛+𝑟 = 𝐸𝑡 + 𝑆𝑡𝑟. This implies that any deviation from trend (denoted by 'r') adds to or subtracts from the base level and seasonality without scaling it. Conversenly, with multiplicative seasonal effects where n ranges between periods p+1 through 2p+1, forecasts are formulated using the expression 𝑦𝑛+𝑟 = 𝐸𝑡 × (1 + 𝑆𝑡(n-𝑝)). Here, 'r' represents a scaling factor that adjusts both the trend and seasonality proportionally. The initial values of expected levels and seasonal factors for additive models are set at 1, while in multiplicative cases they start from 0, accounting for their proportional relationship with the base series level.\"\n",
    "\n",
    "\n",
    "\"For illustrative purposes, let's consider forecasting future periods based on given historical data (with sample figures provided). For an example of an additive model starting at period t=24 and a seasonality coefficient (𝑆21) of 1.035 for the first quarter of year 2, we can predict values such as:\n",
    "\n",
    "\n",
    "- Period 25 (n = 1): Expected level is E(24), Seasonality S21 equals 1.035 * (25-4) or 1.285, the forecasted value is E(24) + 1.285.\n",
    "\n",
    "- Period 26 (n = 2): Expected level remains E(24), Seasonality S22 equals 1.035 * (26-4), giving us a calculated forecast of E(24) + 1.578, and so forth for periods up to n=28.\"\n",
    "\n",
    "\n",
    "For multiplicative seasonal models starting from period t=24 with a base seasonality coefficient S21 of 1.015:\n",
    "\n",
    "\n",
    "- Period 25 (n = 1): The forecast would be E(24) * (1 + (1.015* (25 - 4)) or approximately 359.13.\n",
    "\n",
    "- Period 26 (n = 2): Following the formula, we use an adjusted seasonality coefficient of S22 equals 1.015^2 * (26 - 4) to find a forecast value roughly equaling 334.94. The process is then repeated up to period 28.\"<|end|><|assistant|> In Time Series Forecasting with Stationary Data, two distinct approaches for modeling seasonal effects are considered: additive and multiplicative models. Both methods require an understanding of how the expected level (E_t) and a seasonality factor (S_t) evolve over time within stationary series.\n",
    "\n",
    "\n",
    "For an **additive model**, forecasts at periods n from p+1 to 2p+1 are obtained using the formula:\n",
    "\n",
    "𝑦𝑛+𝑟 = E_t + S_t(n-p)\n",
    "\n",
    "Here, 'r' stands for any shift or cyclical variation. This model presumes that seasonal changes (denoted as S_t) and other factors affecting the series are added directly to the level of the time series without influencing the magnitude. The base level at which calculations begin is conventionally set at 1.\n",
    "e\n",
    "g., for an additive model with four quarters, where p equals 4:\n",
    "- For period n=25 (n = p + 1): 𝑦𝑛+𝑟 = E_t + S_21(25 - 4) = 1 + S_t[21]\n",
    "- For period n=26: Similarly, 𝑦𝑛+𝑟 = E_t + S_t[22](26 - 4)\n",
    "And this continues up to the second forecasting point, which is n=28.\n",
    "\n",
    "For a **multiplicative seasonal model**, where p still equals 4:\n",
    "- The formula becomes: 𝑦𝑛+𝑟 = E_t * (1 + S_t(n - p))\n",
    "This implies that any fluctuations from the trend line and seasonality are multiplied together, thus scaling both concurrently. Here, initial conditions start at E_0 = 0 since this approach considers the relative changes concerning the series level. Using our four-quarter model as an example:\n",
    "- For period n=25, we'd have: 𝑦𝑛+𝑟 = 1 * (1 + S_t[21](25 - 4))\n",
    "- The forecast for the second cycle would then be adjusted to 𝑦𝑛+𝑟 = 1 * (1 + S_t[22](26 - 4)), and it is calculated up to n=28.<|end|><|assistant|> In time series analysis with stationary data, forecasting involves estimating the future values based on historical patterns. Two main approaches exist for handling seasonality within this framework: additive and multiplicative models, each suitable in different contexts depending on whether the seasonal effects increase or decrease over time relative to the trend level (additive) or maintain a proportionate relationship with it (multiplicative).\n",
    "\n",
    "\n",
    "For an **additive model** used when the magnitude of seasonal variation remains constant over periods:\n",
    "- Forecast 𝑦𝑛+𝑟 at any given n by adding S_t(n-p) to E_t where S_t represents the current seasonality index, and p is the season period (e.g., quarter).\n",
    "Using our example of four quarters:\n",
    "   - Forecast for period 25 using S_21 = 1.035 would be calculated as: 𝑦𝑛+𝑟 = E_t + S_21(n-p) which becomes, 𝑦𝑛+𝑟 = E_t + (1.035 * (25-4)).\n",
    "   - Continuing through to the period 28, this pattern is maintained with respective values of S_t for each period index.\n",
    "\n",
    "A **multiplicative model** assumes that seasonal variations are proportional to the trend and will vary over time:\n",
    "- The forecast is found by multiplying E_t by (1 + S_t(n - p)), where S_t stands as a scaling factor for each period index. This indicates growth or contraction of both trend and seasonal effect in relation to the initial series level (typically set at zero due to proportional nature).\n",
    "Employing our four-quarter framework:\n",
    "   - For the quarter n=25, the forecast is calculated as 𝑦𝑛+𝑟 = E_t * [1 + S_21(25-4)] with a seasonality index of 1.035 leading to an adjusted value for period 25 and so on, progressively updated for subsequent periods until n=28.<|end|><|endoftext|>"
   ]
  }
 ],
 "metadata": {
  "kernelspec": {
   "display_name": "chat",
   "language": "python",
   "name": "python3"
  },
  "language_info": {
   "codemirror_mode": {
    "name": "ipython",
    "version": 3
   },
   "file_extension": ".py",
   "mimetype": "text/x-python",
   "name": "python",
   "nbconvert_exporter": "python",
   "pygments_lexer": "ipython3",
   "version": "3.12.3"
  }
 },
 "nbformat": 4,
 "nbformat_minor": 2
}
