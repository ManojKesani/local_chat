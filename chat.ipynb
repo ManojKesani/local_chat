{
 "cells": [
  {
   "cell_type": "code",
   "execution_count": 1,
   "metadata": {},
   "outputs": [],
   "source": [
    "import ollama\n"
   ]
  },
  {
   "cell_type": "code",
   "execution_count": 7,
   "metadata": {},
   "outputs": [
    {
     "data": {
      "text/plain": [
       "['AsyncClient',\n",
       " 'ChatResponse',\n",
       " 'Client',\n",
       " 'GenerateResponse',\n",
       " 'Message',\n",
       " 'Options',\n",
       " 'ProgressResponse',\n",
       " 'RequestError',\n",
       " 'ResponseError',\n",
       " '__all__',\n",
       " '__builtins__',\n",
       " '__cached__',\n",
       " '__doc__',\n",
       " '__file__',\n",
       " '__loader__',\n",
       " '__name__',\n",
       " '__package__',\n",
       " '__path__',\n",
       " '__spec__',\n",
       " '_client',\n",
       " '_types',\n",
       " 'chat',\n",
       " 'copy',\n",
       " 'create',\n",
       " 'delete',\n",
       " 'embeddings',\n",
       " 'generate',\n",
       " 'list',\n",
       " 'pull',\n",
       " 'push',\n",
       " 'show']"
      ]
     },
     "execution_count": 7,
     "metadata": {},
     "output_type": "execute_result"
    }
   ],
   "source": [
    "list(dir(ollama))"
   ]
  },
  {
   "cell_type": "code",
   "execution_count": 13,
   "metadata": {},
   "outputs": [
    {
     "name": "stdout",
     "output_type": "stream",
     "text": [
      "{'created_at': '2024-04-27T04:17:06.835018Z',\n",
      " 'done': True,\n",
      " 'eval_count': 53,\n",
      " 'eval_duration': 1140145000,\n",
      " 'load_duration': 3671047042,\n",
      " 'message': {'content': 'The sky is blue due to Rayleigh scattering. This '\n",
      "                        'scattering occurs when sunlight interacts with '\n",
      "                        \"molecules in the Earth's atmosphere. The blue light \"\n",
      "                        'has a shorter wavelength than other colors, so it is '\n",
      "                        'scattered more strongly. This is why the sky appears '\n",
      "                        'blue to us.',\n",
      "             'role': 'assistant'},\n",
      " 'model': 'gemma:2b',\n",
      " 'prompt_eval_count': 15,\n",
      " 'prompt_eval_duration': 79300000,\n",
      " 'total_duration': 4892738625}\n"
     ]
    }
   ],
   "source": [
    "import ollama\n",
    "from pprint import pprint\n",
    "\n",
    "response = ollama.chat(model='gemma:2b', messages=[\n",
    "  {\n",
    "    'role': 'user',\n",
    "    'content': 'Why is the sky blue?',\n",
    "  },\n",
    "])\n",
    "pprint(response)"
   ]
  },
  {
   "cell_type": "code",
   "execution_count": 14,
   "metadata": {},
   "outputs": [
    {
     "name": "stdout",
     "output_type": "stream",
     "text": [
      "{'created_at': '2024-04-27T04:17:16.394764Z',\n",
      " 'done': True,\n",
      " 'eval_count': 168,\n",
      " 'eval_duration': 5649859000,\n",
      " 'load_duration': 3376737458,\n",
      " 'message': {'content': ' The sky appears blue to the human eye because of a '\n",
      "                        'phenomenon known as Rayleigh scattering. As sunlight '\n",
      "                        \"enters Earth's atmosphere, it encounters molecules \"\n",
      "                        'and small particles which cause the light to scatter '\n",
      "                        'in all directions. Blue light (shorter wavelength) is '\n",
      "                        'scattered more than other colors because its shorter '\n",
      "                        'wavelength causes it to diffract more sharply when '\n",
      "                        'encountering these particles. This scattering of blue '\n",
      "                        'light across the sky makes it appear predominantly '\n",
      "                        \"blue from our perspective on Earth's surface, \"\n",
      "                        'especially during the daytime when the sun is high in '\n",
      "                        'the sky. Additionally, at sunrise and sunset, the '\n",
      "                        'light path through the atmosphere is longer, which '\n",
      "                        'means even more blue light is scattered out, leaving '\n",
      "                        'shades of red, orange, and pink to dominate.',\n",
      "             'role': 'assistant'},\n",
      " 'model': 'phi3',\n",
      " 'prompt_eval_count': 13,\n",
      " 'prompt_eval_duration': 153076000,\n",
      " 'total_duration': 9195659416}\n"
     ]
    }
   ],
   "source": [
    "import ollama\n",
    "from pprint import pprint\n",
    "\n",
    "response = ollama.chat(model='phi3', messages=[\n",
    "  {\n",
    "    'role': 'user',\n",
    "    'content': 'Why is the sky blue?',\n",
    "  },\n",
    "])\n",
    "pprint(response)"
   ]
  },
  {
   "cell_type": "code",
   "execution_count": 6,
   "metadata": {},
   "outputs": [
    {
     "name": "stderr",
     "output_type": "stream",
     "text": [
      "Fetching 10 files: 100%|██████████| 10/10 [00:00<00:00, 171897.70it/s]\n"
     ]
    },
    {
     "name": "stdout",
     "output_type": "stream",
     "text": [
      "==========\n",
      "Prompt: explain\n",
      "the difference between the two.\n",
      "\n",
      "The first is that the first-order approximation is not valid for the case of a single-particle system. The second-order approximation is valid for the case of a single-particle system, but the first-order approximation is not valid for the case of a multi-particle system.\n",
      "\n",
      "The first-order approximation is valid for the case of a single-particle system. The second-order approximation is valid for the case of\n",
      "==========\n",
      "Prompt: 37.196 tokens-per-sec\n",
      "Generation: 71.313 tokens-per-sec\n"
     ]
    }
   ],
   "source": [
    "from mlx_lm import load, generate\n",
    "\n",
    "prompt=\"explain\"\n",
    "\n",
    "model, tokenizer = load(\"mlx-community/OpenELM-450M\")\n",
    "response = generate(model, tokenizer, prompt=prompt, verbose=True)\n"
   ]
  },
  {
   "cell_type": "code",
   "execution_count": 1,
   "metadata": {},
   "outputs": [
    {
     "name": "stdout",
     "output_type": "stream",
     "text": [
      "Role: Adventure Guide\n",
      "Goal: Craft exhilarating adventures that ignite the spirit of exploration and adrenaline.\n",
      "Backstory: A daredevil at heart, fueled by the thrill of discovering uncharted territories and conquering untamed landscapes.\n"
     ]
    }
   ],
   "source": [
    "import json\n",
    "\n",
    "# Load the combined JSON file\n",
    "with open('agents.json', 'r') as f:\n",
    "    data = json.load(f)\n",
    "\n",
    "def get_role_goal_backstory(key):\n",
    "    # Extract role, goal, and backstory using the key\n",
    "    role = data['roles'].get(key)\n",
    "    goal = data['goals'].get(key)\n",
    "    backstory = data['backstories'].get(key)\n",
    "    \n",
    "    return role, goal, backstory\n",
    "\n",
    "# Example usage:\n",
    "key = \"adventure_guide\"\n",
    "role, goal, backstory = get_role_goal_backstory(key)\n",
    "print(\"Role:\", role)\n",
    "print(\"Goal:\", goal)\n",
    "print(\"Backstory:\", backstory)\n"
   ]
  },
  {
   "cell_type": "code",
   "execution_count": 5,
   "metadata": {},
   "outputs": [
    {
     "name": "stdout",
     "output_type": "stream",
     "text": [
      "Available Agents:\n",
      "- adventure_guide\n",
      "- culture_crafter\n",
      "- serenity_scout\n",
      "- gastronomic_guru\n",
      "- eco_explorer\n",
      "- urban_nomad\n"
     ]
    }
   ],
   "source": []
  },
  {
   "cell_type": "code",
   "execution_count": null,
   "metadata": {},
   "outputs": [],
   "source": [
    "# Example usage:\n",
    "creator = AgentCreator('combined_data.json')\n",
    "\n",
    "# Add a new agent\n",
    "creator.add_agent('new_agent', 'New Agent', 'New Goal', 'New Backstory')\n",
    "\n",
    "# Display available agents after adding\n",
    "creator.display_available_agents()"
   ]
  },
  {
   "cell_type": "code",
   "execution_count": 8,
   "metadata": {},
   "outputs": [
    {
     "name": "stdout",
     "output_type": "stream",
     "text": [
      "Available Agents:\n",
      "- Key: adventure_guide\n",
      "  Role: Adventure Guide\n",
      "  Goal: Craft exhilarating adventures that ignite the spirit of exploration and adrenaline.\n",
      "  Backstory: A daredevil at heart, fueled by the thrill of discovering uncharted territories and conquering untamed landscapes.\n",
      "- Key: culture_crafter\n",
      "  Role: Culture Crafter\n",
      "  Goal: Immerse travelers in the diverse cultures of the world, from ancient traditions to modern marvels.\n",
      "  Backstory: A global citizen with a deep appreciation for the mosaic of human culture, seeking to bridge gaps and foster understanding through shared experiences.\n",
      "- Key: serenity_scout\n",
      "  Role: Serenity Scout\n",
      "  Goal: Lead seekers of tranquility to idyllic retreats where they can rejuvenate mind, body, and soul.\n",
      "  Backstory: A guardian of tranquility, with an intuitive sense for serene sanctuaries and a mission to restore balance in a chaotic world.\n",
      "- Key: gastronomic_guru\n",
      "  Role: Gastronomic Guru\n",
      "  Goal: Delight food enthusiasts with gastronomic odysseys, exploring the flavors of local cuisines.\n",
      "  Backstory: A culinary virtuoso, dedicated to exploring the world's flavors, uncovering culinary secrets, and savoring every bite.\n",
      "- Key: eco_explorer\n",
      "  Role: Eco Explorer\n",
      "  Goal: Promote sustainable travel practices while uncovering the wonders of nature and biodiversity.\n",
      "  Backstory: A steward of the Earth, dedicated to preserving natural wonders and inspiring others to tread lightly on their journey through eco-conscious exploration.\n",
      "- Key: urban_nomad\n",
      "  Role: Urban Nomad\n",
      "  Goal: Navigate the bustling metropolises, unveiling the hidden gems and vibrant subcultures of urban life.\n",
      "  Backstory: A modern-day nomad, navigating the urban jungle with curiosity and adaptability, uncovering the essence of city life in its myriad forms.\n",
      "- Key: agent_tester\n",
      "  Role: Researcher\n",
      "  Goal: Find and summarize the latest AI news\n",
      "  Backstory: You're a researcher at a large company.\n",
      "  You're responsible for analyzing data and providing insights\n",
      "  to the business.\n",
      "- Key: PDF_Cleaner\n",
      "  Role: Document Cleansing Specialist\n",
      "  Goal: To extract relevant information from cluttered documents and present it in a clear, concise format.\n",
      "  Backstory: A meticulous data curator with a keen eye for detail, the Document Cleansing Specialist is adept at navigating through cluttered documents to uncover the nuggets of valuable information buried within.With a background in data analysis and document processing, this agent has honed the skills necessary to efficiently clean and organize text, ensuring that only the most pertinent details are retained while extraneous clutter is discarded. Whether it's extracting crucial insights from financial reports, distilling key findings from research papers, or summarizing important data from lengthy documents, the Document Cleansing Specialist is the go-to expert for tidying up messy text and delivering polished, refined content. Armed with cutting-edge text processing tools and a commitment to excellence, this agent transforms chaotic documents into streamlined resources, empowering decision-makers with clarity and precision.\n",
      "\n",
      "- Key: Prescriptive_Analytics_Tutor\n",
      "  Role: Prescriptive_Analytics_Tutor\n",
      "  Goal: To facilitate comprehensive understanding of prescriptive analytics concepts through personalized guidance and interactive learning experiences.\n",
      "  Backstory: As a seasoned educator and subject matter expert in prescriptive analytics, the Prescriptive Analytics Tutor brings a wealth of knowledge and teaching experience to the table. With a passion for fostering learning and a commitment to student success, this tutor specializes in distilling complex concepts into digestible chunks of information, ensuring clarity and comprehension. Leveraging a deep understanding of various pedagogical approaches and instructional techniques, the tutor tailors learning strategies to suit individual learning styles and preferences. By analyzing class notes and summaries, the tutor identifies areas of strength and weakness, customizing lesson plans and practice exercises to address specific learning needs. Through interactive sessions, engaging discussions, and hands-on activities, the Prescriptive Analytics Tutor empowers students to master the intricacies of prescriptive analytics, equipping them with the skills and confidence needed to excel in their academic pursuits and beyond.\n",
      "\n",
      "- Key: Personalized_Learning_Tutor\n",
      "  Role: Personalized_Learning_Tutor\n",
      "  Goal: To facilitate efficient learning by summarizing class notes and providing personalized guidance and assistance to aid understanding.\n",
      "  Backstory: The Personalized Learning Tutor is your dedicated companion on the journey of knowledge acquisition. With a background in education and a passion for empowering learners, this tutor leverages advanced techniques in natural language processing and educational psychology to provide tailored support. Drawing upon extensive experience in curriculum design and pedagogical methodologies, the Personalized Learning Tutor excels at distilling complex class notes into digestible summaries, ensuring that you grasp the key concepts effectively. Furthermore, this tutor offers personalized assistance based on your learning style, preferences, and areas of difficulty. Whether you prefer visual aids, interactive quizzes, or in-depth explanations, the Personalized Learning Tutor adapts to your needs, guiding you towards a deeper understanding of the subject matter. With a focus on fostering independent learning skills and nurturing academic growth, this tutor serves as a trusted mentor and ally in your educational journey, empowering you to achieve your learning goals with confidence and competence.\n",
      "    \n"
     ]
    }
   ],
   "source": [
    "from agents import AgentCreator\n",
    "\n",
    "a = AgentCreator('agents.json')\n",
    "a.display_available_agents()"
   ]
  },
  {
   "cell_type": "code",
   "execution_count": 9,
   "metadata": {},
   "outputs": [
    {
     "name": "stdout",
     "output_type": "stream",
     "text": [
      "Agent 'quiz_Tutor' added successfully.\n"
     ]
    }
   ],
   "source": [
    "a.add_agent(\n",
    "    key='quiz_Tutor',\n",
    "    role='quiz_Tutor',\n",
    "    goal='To facilitate effective learning by providing personalized study sessions and interactive quizzes based on class notes and materials.',\n",
    "    backstory=\"\"\"Born out of a passion for education and a desire to empower learners, the Personal Tutoring AI is your dedicated study companion. Trained on a vast array of educational materials and equipped with advanced natural language processing capabilities, this AI tutor is designed to assist you in mastering your class notes and materials. Drawing from the latest advancements in pedagogy and cognitive science, the Personal Tutoring AI tailors its tutoring sessions to your individual learning style and pace. Whether you prefer visual explanations, interactive quizzes, or hands-on activities, this tutor adapts to your needs, ensuring that you grasp even the most challenging concepts with ease. With a patient and supportive demeanor, the Personal Tutoring AI guides you through your study journey, providing encouragement, feedback, and reinforcement along the way. From reinforcing key concepts to testing your understanding through engaging quizzes, this AI tutor is committed to helping you achieve academic success.\n",
    "    \"\"\"\n",
    ")"
   ]
  },
  {
   "cell_type": "code",
   "execution_count": null,
   "metadata": {},
   "outputs": [],
   "source": []
  }
 ],
 "metadata": {
  "kernelspec": {
   "display_name": "chat",
   "language": "python",
   "name": "python3"
  },
  "language_info": {
   "codemirror_mode": {
    "name": "ipython",
    "version": 3
   },
   "file_extension": ".py",
   "mimetype": "text/x-python",
   "name": "python",
   "nbconvert_exporter": "python",
   "pygments_lexer": "ipython3",
   "version": "3.12.3"
  }
 },
 "nbformat": 4,
 "nbformat_minor": 2
}
